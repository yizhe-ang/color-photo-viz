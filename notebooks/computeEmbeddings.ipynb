{
 "cells": [
  {
   "cell_type": "code",
   "execution_count": 1,
   "metadata": {},
   "outputs": [],
   "source": [
    "import fiftyone.zoo as foz\n",
    "import fiftyone as fo\n",
    "import fiftyone.brain as fob\n",
    "import numpy as np\n",
    "from pathlib import Path\n",
    "import json"
   ]
  },
  {
   "cell_type": "code",
   "execution_count": 2,
   "metadata": {},
   "outputs": [],
   "source": [
    "def load_json(path: Path):\n",
    "    with path.open() as f:\n",
    "        data = json.load(f)\n",
    "\n",
    "    return data\n",
    "\n",
    "\n",
    "def save_json(obj, path: Path):\n",
    "    with path.open(\"w\") as f:\n",
    "        json.dump(obj, f)"
   ]
  },
  {
   "cell_type": "code",
   "execution_count": 3,
   "metadata": {},
   "outputs": [],
   "source": [
    "dataset_name = \"darrensohphotos\"\n",
    "dataset_dir = \"../static/imgs/darrensohphotos\"\n",
    "dataset_type = fo.types.ImageDirectory\n",
    "\n",
    "export_dir = \"../output\"\n",
    "\n",
    "model_name = \"clip-vit-base32-torch\""
   ]
  },
  {
   "cell_type": "code",
   "execution_count": 4,
   "metadata": {},
   "outputs": [
    {
     "name": "stdout",
     "output_type": "stream",
     "text": [
      " 100% |███████████████| 1894/1894 [563.7ms elapsed, 0s remaining, 3.8K samples/s]      \n"
     ]
    }
   ],
   "source": [
    "dataset = fo.Dataset.from_dir(\n",
    "  dataset_dir=dataset_dir,\n",
    "  dataset_type=dataset_type,\n",
    ")"
   ]
  },
  {
   "cell_type": "code",
   "execution_count": 6,
   "metadata": {},
   "outputs": [
    {
     "data": {
      "text/plain": [
       "Name:        2023.01.11.01.46.36\n",
       "Media type:  image\n",
       "Num samples: 1894\n",
       "Persistent:  False\n",
       "Tags:        []\n",
       "Sample fields:\n",
       "    id:       fiftyone.core.fields.ObjectIdField\n",
       "    filepath: fiftyone.core.fields.StringField\n",
       "    tags:     fiftyone.core.fields.ListField(fiftyone.core.fields.StringField)\n",
       "    metadata: fiftyone.core.fields.EmbeddedDocumentField(fiftyone.core.metadata.ImageMetadata)"
      ]
     },
     "execution_count": 6,
     "metadata": {},
     "output_type": "execute_result"
    }
   ],
   "source": [
    "dataset"
   ]
  },
  {
   "cell_type": "code",
   "execution_count": 7,
   "metadata": {},
   "outputs": [
    {
     "data": {
      "text/plain": [
       "[<Sample: {\n",
       "     'id': '63bda47da18537697d138ec1',\n",
       "     'media_type': 'image',\n",
       "     'filepath': '/Users/angyizhe/code/VIS/color-photo-viz/static/imgs/darrensohphotos/2013-09-21_03-10-00_UTC.jpg',\n",
       "     'tags': [],\n",
       "     'metadata': None,\n",
       " }>,\n",
       " <Sample: {\n",
       "     'id': '63bda47da18537697d138ec2',\n",
       "     'media_type': 'image',\n",
       "     'filepath': '/Users/angyizhe/code/VIS/color-photo-viz/static/imgs/darrensohphotos/2013-09-21_04-55-40_UTC.jpg',\n",
       "     'tags': [],\n",
       "     'metadata': None,\n",
       " }>,\n",
       " <Sample: {\n",
       "     'id': '63bda47da18537697d138ec3',\n",
       "     'media_type': 'image',\n",
       "     'filepath': '/Users/angyizhe/code/VIS/color-photo-viz/static/imgs/darrensohphotos/2013-09-21_12-54-59_UTC.jpg',\n",
       "     'tags': [],\n",
       "     'metadata': None,\n",
       " }>]"
      ]
     },
     "execution_count": 7,
     "metadata": {},
     "output_type": "execute_result"
    }
   ],
   "source": [
    "dataset.head()"
   ]
  },
  {
   "cell_type": "code",
   "execution_count": 5,
   "metadata": {},
   "outputs": [],
   "source": [
    "model = foz.load_zoo_model(model_name)"
   ]
  },
  {
   "cell_type": "code",
   "execution_count": 33,
   "metadata": {},
   "outputs": [
    {
     "name": "stdout",
     "output_type": "stream",
     "text": [
      " 100% |███████████████| 1894/1894 [6.2m elapsed, 0s remaining, 5.1 samples/s]      \n"
     ]
    }
   ],
   "source": [
    "embeddings = dataset.compute_embeddings(model)"
   ]
  },
  {
   "cell_type": "code",
   "execution_count": 38,
   "metadata": {},
   "outputs": [],
   "source": [
    "np.save(f'{export_dir}/embeddings.npy', embeddings)"
   ]
  },
  {
   "cell_type": "code",
   "execution_count": 5,
   "metadata": {},
   "outputs": [],
   "source": [
    "img_embeddings = np.load(f'{export_dir}/clip_embeddings.npy')\n",
    "palette_embeddings = np.load(f'{export_dir}/palette_embeddings.npy')"
   ]
  },
  {
   "cell_type": "code",
   "execution_count": 31,
   "metadata": {},
   "outputs": [
    {
     "name": "stdout",
     "output_type": "stream",
     "text": [
      "Directory '../export' already exists; export will be merged with existing files\n",
      "Exporting samples...\n",
      " 100% |██████████████████| 1894/1894 [405.3ms elapsed, 0s remaining, 4.7K docs/s]      \n"
     ]
    }
   ],
   "source": [
    "# dataset.export(\n",
    "#   export_dir=export_dir,\n",
    "#   dataset_type=fo.types.FiftyOneDataset,\n",
    "#   label_field=[\"embeddings\"],\n",
    "#   export_media=False\n",
    "# )"
   ]
  },
  {
   "cell_type": "code",
   "execution_count": 6,
   "metadata": {},
   "outputs": [
    {
     "name": "stdout",
     "output_type": "stream",
     "text": [
      "Generating visualization...\n",
      "Generating visualization...\n",
      "Generating visualization...\n",
      "Generating visualization...\n"
     ]
    }
   ],
   "source": [
    "img_2d_results = fob.compute_visualization(\n",
    "  dataset,\n",
    "  embeddings=img_embeddings,\n",
    "  num_dims=2,\n",
    "  verbose=False,\n",
    "  seed=51,\n",
    ")\n",
    "\n",
    "img_3d_results = fob.compute_visualization(\n",
    "  dataset,\n",
    "  embeddings=img_embeddings,\n",
    "  num_dims=3,\n",
    "  verbose=False,\n",
    "  seed=51,\n",
    ")\n",
    "\n",
    "palette_2d_results = fob.compute_visualization(\n",
    "  dataset,\n",
    "  embeddings=palette_embeddings,\n",
    "  num_dims=2,\n",
    "  verbose=False,\n",
    "  seed=51,\n",
    ")\n",
    "\n",
    "palette_3d_results = fob.compute_visualization(\n",
    "  dataset,\n",
    "  embeddings=palette_embeddings,\n",
    "  num_dims=3,\n",
    "  verbose=False,\n",
    "  seed=51,\n",
    ")"
   ]
  },
  {
   "cell_type": "code",
   "execution_count": 7,
   "metadata": {},
   "outputs": [],
   "source": [
    "output = []\n",
    "\n",
    "for i in range(len(dataset)):\n",
    "  # output.append({\n",
    "  #   \"img2d\": img_2d_results.points[i].tolist(),\n",
    "  #   \"img3d\": img_3d_results.points[i].tolist(),\n",
    "  #   \"palette2d\": palette_2d_results.points[i].tolist(),\n",
    "  #   \"palette3d\": palette_3d_results.points[i].tolist(),\n",
    "  # })\n",
    "\n",
    "  img_2d_x, img_2d_y = img_2d_results.points[i].tolist()\n",
    "  img_3d_x, img_3d_y, img_3d_z = img_3d_results.points[i].tolist()\n",
    "\n",
    "  palette_2d_x, palette_2d_y = palette_2d_results.points[i].tolist()\n",
    "  palette_3d_x, palette_3d_y, palette_3d_z = palette_3d_results.points[i].tolist()\n",
    "\n",
    "  output.append({\n",
    "    \"img2d\": {\n",
    "      \"x\": img_2d_x,\n",
    "      \"y\": img_2d_y,\n",
    "      \"z\": 0,\n",
    "    },\n",
    "    \"img3d\": {\n",
    "      \"x\": img_3d_x,\n",
    "      \"y\": img_3d_y,\n",
    "      \"z\": img_3d_z,\n",
    "    },\n",
    "    \"palette2d\": {\n",
    "      \"x\": palette_2d_x,\n",
    "      \"y\": palette_2d_y,\n",
    "      \"z\": 0,\n",
    "    },\n",
    "    \"palette3d\": {\n",
    "      \"x\": palette_3d_x,\n",
    "      \"y\": palette_3d_y,\n",
    "      \"z\": palette_3d_z,\n",
    "    },\n",
    "  })"
   ]
  },
  {
   "cell_type": "code",
   "execution_count": 8,
   "metadata": {},
   "outputs": [],
   "source": [
    "save_json(output, Path('../src/data/positions.json'))"
   ]
  },
  {
   "cell_type": "code",
   "execution_count": 31,
   "metadata": {},
   "outputs": [
    {
     "data": {
      "text/html": [
       "\n",
       "        <iframe\n",
       "            width=\"100%\"\n",
       "            height=\"800\"\n",
       "            src=\"http://localhost:5151/?context=ipython&subscription=fba8013c-b6b6-4d9b-9a9c-0cf67347cfd8\"\n",
       "            frameborder=\"0\"\n",
       "            allowfullscreen\n",
       "            \n",
       "        ></iframe>\n",
       "        "
      ],
      "text/plain": [
       "<IPython.lib.display.IFrame at 0x7fe358aa9820>"
      ]
     },
     "metadata": {},
     "output_type": "display_data"
    }
   ],
   "source": [
    "session = fo.launch_app(dataset)"
   ]
  },
  {
   "cell_type": "code",
   "execution_count": 32,
   "metadata": {},
   "outputs": [
    {
     "data": {},
     "metadata": {},
     "output_type": "display_data"
    },
    {
     "data": {
      "text/plain": []
     },
     "metadata": {},
     "output_type": "display_data"
    },
    {
     "data": {
      "application/vnd.jupyter.widget-view+json": {
       "model_id": "5a7016551eaf4d159fffde4af5327001",
       "version_major": 2,
       "version_minor": 0
      },
      "text/plain": [
       "FigureWidget({\n",
       "    'data': [{'customdata': array(['63c294b5fbda3bdcbadfe22d', '63c294b5fbda3bdcbadfe22e',\n",
       "    …"
      ]
     },
     "metadata": {},
     "output_type": "display_data"
    }
   ],
   "source": [
    "plot = img_2d_results.visualize()\n",
    "plot.show()\n",
    "\n",
    "session.plots.attach(plot)"
   ]
  },
  {
   "cell_type": "code",
   "execution_count": null,
   "metadata": {},
   "outputs": [],
   "source": []
  }
 ],
 "metadata": {
  "kernelspec": {
   "display_name": "color-photo-viz",
   "language": "python",
   "name": "python3"
  },
  "language_info": {
   "codemirror_mode": {
    "name": "ipython",
    "version": 3
   },
   "file_extension": ".py",
   "mimetype": "text/x-python",
   "name": "python",
   "nbconvert_exporter": "python",
   "pygments_lexer": "ipython3",
   "version": "3.9.15 (main, Nov 24 2022, 08:29:02) \n[Clang 14.0.6 ]"
  },
  "orig_nbformat": 4,
  "vscode": {
   "interpreter": {
    "hash": "da6cfb0bc5c987715ee672b64cd0d95c13bf7b6b31b451b300f5b0d3ce05b340"
   }
  }
 },
 "nbformat": 4,
 "nbformat_minor": 2
}
